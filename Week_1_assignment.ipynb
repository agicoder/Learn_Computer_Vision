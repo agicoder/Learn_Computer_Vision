{
  "nbformat": 4,
  "nbformat_minor": 0,
  "metadata": {
    "kernelspec": {
      "display_name": "Python 3",
      "language": "python",
      "name": "python3"
    },
    "language_info": {
      "codemirror_mode": {
        "name": "ipython",
        "version": 3
      },
      "file_extension": ".py",
      "mimetype": "text/x-python",
      "name": "python",
      "nbconvert_exporter": "python",
      "pygments_lexer": "ipython3",
      "version": "3.7.3"
    },
    "colab": {
      "name": "Week 1 assignment.ipynb",
      "version": "0.3.2",
      "provenance": [],
      "include_colab_link": true
    }
  },
  "cells": [
    {
      "cell_type": "markdown",
      "metadata": {
        "id": "view-in-github",
        "colab_type": "text"
      },
      "source": [
        "<a href=\"https://colab.research.google.com/github/agicoder/Learn_Computer_Vision/blob/master/Week_1_assignment.ipynb\" target=\"_parent\"><img src=\"https://colab.research.google.com/assets/colab-badge.svg\" alt=\"Open In Colab\"/></a>"
      ]
    },
    {
      "cell_type": "markdown",
      "metadata": {
        "id": "0-2EqXWPOwuT",
        "colab_type": "text"
      },
      "source": [
        "# Regression Week 1: Simple Linear Regression"
      ]
    },
    {
      "cell_type": "markdown",
      "metadata": {
        "id": "ZsC6VIonOwuV",
        "colab_type": "text"
      },
      "source": [
        "In this notebook we will use data on house sales in King County to predict house prices using simple (one input) linear regression. You will:\n",
        "* Compute important summary statistics\n",
        "* Write a function to compute the Simple Linear Regression weights using the closed form solution\n",
        "* Write a function to make predictions of the output given the input feature\n",
        "* Turn the regression around to predict the input given the output\n",
        "* Compare two different models for predicting house prices\n",
        "\n",
        "In this notebook you will be provided with some already complete code as well as some code that you should complete yourself in order to answer quiz questions. The code we provide to complte is optional and is there to assist you with solving the problems but feel free to ignore the helper code and write your own."
      ]
    },
    {
      "cell_type": "markdown",
      "metadata": {
        "id": "ujaxXqO3OwuW",
        "colab_type": "text"
      },
      "source": [
        "# Fire up Sklearn + Pandas + Numpy "
      ]
    },
    {
      "cell_type": "code",
      "metadata": {
        "id": "0GwDPN1UOwuX",
        "colab_type": "code",
        "colab": {}
      },
      "source": [
        "import pandas as pd\n",
        "import numpy as np\n",
        "import sklearn\n",
        "import matplotlib.pyplot as plt"
      ],
      "execution_count": 0,
      "outputs": []
    },
    {
      "cell_type": "markdown",
      "metadata": {
        "id": "cK-gPJopOwub",
        "colab_type": "text"
      },
      "source": [
        "# Load house sales data\n",
        "\n",
        "Dataset is from house sales in King County, the region where the city of Seattle, WA is located."
      ]
    },
    {
      "cell_type": "code",
      "metadata": {
        "id": "Vpomr_gVOwuc",
        "colab_type": "code",
        "colab": {}
      },
      "source": [
        "# Data type format\n",
        "dtype_dict = {'bathrooms':float, 'waterfront':int, 'sqft_above':int, 'sqft_living15':float, 'grade':int, 'yr_renovated':int, 'price':float, 'bedrooms':float, 'zipcode':str, 'long':float, 'sqft_lot15':float, 'sqft_living':float, 'floors':str, 'condition':int, 'lat':float, 'date':str, 'sqft_basement':int, 'yr_built':int, 'id':str, 'sqft_lot':int, 'view':int}"
      ],
      "execution_count": 0,
      "outputs": []
    },
    {
      "cell_type": "code",
      "metadata": {
        "id": "zNBFkKdzOwuf",
        "colab_type": "code",
        "colab": {}
      },
      "source": [
        "sales = pd.read_csv('kc_house_data.csv', dtype=dtype_dict)"
      ],
      "execution_count": 0,
      "outputs": []
    },
    {
      "cell_type": "code",
      "metadata": {
        "id": "AxYtIHczOwui",
        "colab_type": "code",
        "colab": {}
      },
      "source": [
        "sales"
      ],
      "execution_count": 0,
      "outputs": []
    },
    {
      "cell_type": "code",
      "metadata": {
        "id": "licIOaq2Owul",
        "colab_type": "code",
        "colab": {}
      },
      "source": [
        "# Show all columns\n",
        "print(sales.columns)"
      ],
      "execution_count": 0,
      "outputs": []
    },
    {
      "cell_type": "code",
      "metadata": {
        "id": "gReiFcxkOwuo",
        "colab_type": "code",
        "colab": {}
      },
      "source": [
        "# Select only sqft and price to train \n",
        "X = sales['sqft_living']\n",
        "y = sales['price']"
      ],
      "execution_count": 0,
      "outputs": []
    },
    {
      "cell_type": "code",
      "metadata": {
        "id": "Tu52fKKfOwur",
        "colab_type": "code",
        "colab": {}
      },
      "source": [
        "# Plot the data \n",
        "%matplotlib inline\n",
        "plt.plot(X, y, 'bo')"
      ],
      "execution_count": 0,
      "outputs": []
    },
    {
      "cell_type": "markdown",
      "metadata": {
        "id": "0NeoIG6TOwuu",
        "colab_type": "text"
      },
      "source": [
        "# Split data into training and testing"
      ]
    },
    {
      "cell_type": "markdown",
      "metadata": {
        "id": "-9fBbsasOwuv",
        "colab_type": "text"
      },
      "source": [
        "We use random_state=42 so that everyone running this notebook gets the same results.  In practice, you may set a random_state.  "
      ]
    },
    {
      "cell_type": "code",
      "metadata": {
        "id": "LeIuKnogOwuz",
        "colab_type": "code",
        "colab": {}
      },
      "source": [
        "# Note: Using train_test_split \n",
        "from sklearn.model_selection import train_test_split\n",
        "X_train, X_test, y_train, y_test = train_test_split(X, y, test_size=0.2, random_state=42)"
      ],
      "execution_count": 0,
      "outputs": []
    },
    {
      "cell_type": "markdown",
      "metadata": {
        "id": "tyCfmWT7Owu3",
        "colab_type": "text"
      },
      "source": [
        "# Summary data"
      ]
    },
    {
      "cell_type": "code",
      "metadata": {
        "id": "ekUAr9q_Owu4",
        "colab_type": "code",
        "colab": {}
      },
      "source": [
        "# Let's compute the mean of the House Prices in King County in 2 different ways.\n",
        "prices = sales['price'] \n",
        "\n",
        "# recall that the arithmetic average (the mean) is the sum of the prices divided by the total number of houses:\n",
        "# Use numpy \n",
        "sum_prices = np.sum(prices) # Or prices.sum()\n",
        "num_houses = len(prices)\n",
        "# There is two method to compute mean \n",
        "avg_price_1 = sum_prices/num_houses\n",
        "avg_price_2 = np.mean(prices)\n",
        "print(\"average price via method 1: \", str(avg_price_1))\n",
        "print(\"average price via method 2: \", str(avg_price_2))"
      ],
      "execution_count": 0,
      "outputs": []
    },
    {
      "cell_type": "markdown",
      "metadata": {
        "id": "EqpyUoLCOwu7",
        "colab_type": "text"
      },
      "source": [
        "As we see we get the same answer both ways"
      ]
    },
    {
      "cell_type": "code",
      "metadata": {
        "id": "3Z15LdcPOwu8",
        "colab_type": "code",
        "colab": {}
      },
      "source": [
        "# if we want to multiply every price by 0.5 it's a simple as:\n",
        "half_prices = 0.5*prices\n",
        "# Let's compute the sum of squares of price. We can multiply two Pandas array of the same length elementwise also with *\n",
        "prices_squared = prices*prices\n",
        "sum_prices_squared = prices_squared.sum() # price_squared is an Pandas array of the squares and we want to add them up.\n",
        "print(\"the sum of price squared is: \", str(sum_prices_squared))"
      ],
      "execution_count": 0,
      "outputs": []
    },
    {
      "cell_type": "markdown",
      "metadata": {
        "id": "lb7u7v3mOwu-",
        "colab_type": "text"
      },
      "source": [
        "Aside: The python notation x.xxe+yy means x.xx \\* 10^(yy). e.g 100 = 10^2 = 1*10^2 = 1e2 "
      ]
    },
    {
      "cell_type": "markdown",
      "metadata": {
        "id": "ybK0BEt-Owu_",
        "colab_type": "text"
      },
      "source": [
        "# Build a generic simple linear regression function "
      ]
    },
    {
      "cell_type": "markdown",
      "metadata": {
        "id": "rj6jAFUZOwvA",
        "colab_type": "text"
      },
      "source": [
        "Armed with these functions we can use the closed form solution found from lecture to compute the slope and intercept for a simple linear regression on observations: input_feature, output.\n",
        "\n",
        "Complete the following function (or write your own) to compute the simple linear regression slope and intercept:"
      ]
    },
    {
      "cell_type": "code",
      "metadata": {
        "id": "SOjlAuEUOwvB",
        "colab_type": "code",
        "colab": {}
      },
      "source": [
        "def simple_linear_regression(input_feature, output):\n",
        "    # compute the sum of input_feature and output\n",
        "    \n",
        "    # compute the product of the output and the input_feature and its sum\n",
        "    \n",
        "    # compute the squared value of the input_feature and its sum\n",
        "    \n",
        "    # use the formula for the slope\n",
        "    \n",
        "    # use the formula for the intercept\n",
        "    \n",
        "    return (intercept, slope)"
      ],
      "execution_count": 0,
      "outputs": []
    },
    {
      "cell_type": "markdown",
      "metadata": {
        "id": "rbJ4Dos6OwvD",
        "colab_type": "text"
      },
      "source": [
        "We can test that our function works by passing it something where we know the answer. In particular we can generate a feature and then put the output exactly on a line: output = 1 + 1\\*input_feature then we know both our slope and intercept should be 1"
      ]
    },
    {
      "cell_type": "code",
      "metadata": {
        "scrolled": true,
        "id": "09QC-1P1OwvE",
        "colab_type": "code",
        "colab": {}
      },
      "source": [
        "test_feature = np.array(range(5))\n",
        "test_output = test_feature + 1 \n",
        "(test_intercept, test_slope) =  simple_linear_regression(test_feature, test_output)\n",
        "print(\"Intercept: \", str(test_intercept))\n",
        "print(\"Slope: \", str(test_slope))"
      ],
      "execution_count": 0,
      "outputs": []
    },
    {
      "cell_type": "markdown",
      "metadata": {
        "id": "6hVLjx1fOwvH",
        "colab_type": "text"
      },
      "source": [
        "Now that we know it works let's build a regression model for predicting price based on sqft_living. Rembember that we train on train_data!"
      ]
    },
    {
      "cell_type": "code",
      "metadata": {
        "id": "m6tZPYR9OwvI",
        "colab_type": "code",
        "colab": {}
      },
      "source": [
        "sqft_intercept, sqft_slope = simple_linear_regression(X_train, y_train)\n",
        "\n",
        "print(\"Intercept: \", str(sqft_intercept))\n",
        "print(\"Slope: \", str(sqft_slope))"
      ],
      "execution_count": 0,
      "outputs": []
    },
    {
      "cell_type": "markdown",
      "metadata": {
        "id": "KfLHarFWOwvL",
        "colab_type": "text"
      },
      "source": [
        "# Predicting Values"
      ]
    },
    {
      "cell_type": "markdown",
      "metadata": {
        "id": "ypQR1OeLOwvL",
        "colab_type": "text"
      },
      "source": [
        "Now that we have the model parameters: intercept & slope we can make predictions. Complete the following function to return the predicted output given the input_feature, slope and intercept:"
      ]
    },
    {
      "cell_type": "code",
      "metadata": {
        "id": "F6NSfVzVOwvM",
        "colab_type": "code",
        "colab": {}
      },
      "source": [
        "def get_regression_predictions(input_feature, intercept, slope):\n",
        "    # calculate the predicted values:\n",
        "    \n",
        "    return predicted_values"
      ],
      "execution_count": 0,
      "outputs": []
    },
    {
      "cell_type": "markdown",
      "metadata": {
        "id": "o6PjMxDkOwvP",
        "colab_type": "text"
      },
      "source": [
        "Now that we can calculate a prediction given the slope and intercept let's make a prediction. Use (or alter) the following to find out the estimated price for a house with 2650 squarefeet according to the squarefeet model we estiamted above.\n",
        "\n",
        "**Quiz Question: Using your Slope and Intercept from (4), What is the predicted price for a house with 2650 sqft?**"
      ]
    },
    {
      "cell_type": "code",
      "metadata": {
        "id": "DlzcdigPOwvQ",
        "colab_type": "code",
        "colab": {}
      },
      "source": [
        "my_house_sqft = 2650\n",
        "estimated_price = get_regression_predictions(my_house_sqft, sqft_intercept, sqft_slope)\n",
        "print(\"The estimated price for a house with %d squarefeet is $%.2f\" % (my_house_sqft, estimated_price))"
      ],
      "execution_count": 0,
      "outputs": []
    },
    {
      "cell_type": "markdown",
      "metadata": {
        "id": "jdxTjrcAOwvU",
        "colab_type": "text"
      },
      "source": [
        "# Residual Sum of Squares"
      ]
    },
    {
      "cell_type": "markdown",
      "metadata": {
        "id": "HmPOTqWqOwvW",
        "colab_type": "text"
      },
      "source": [
        "Now that we have a model and can make predictions let's evaluate our model using Residual Sum of Squares (RSS). Recall that RSS is the sum of the squares of the residuals and the residuals is just a fancy word for the difference between the predicted output and the true output. \n",
        "\n",
        "Complete the following (or write your own) function to compute the RSS of a simple linear regression model given the input_feature, output, intercept and slope:"
      ]
    },
    {
      "cell_type": "code",
      "metadata": {
        "id": "a79VzWiQOwvZ",
        "colab_type": "code",
        "colab": {}
      },
      "source": [
        "def get_residual_sum_of_squares(input_feature, output, intercept, slope):\n",
        "    # First get the predictions\n",
        "\n",
        "    # then compute the residuals (since we are squaring it doesn't matter which order you subtract)\n",
        "\n",
        "    # square the residuals and add them up\n",
        "\n",
        "    return(RSS)"
      ],
      "execution_count": 0,
      "outputs": []
    },
    {
      "cell_type": "markdown",
      "metadata": {
        "id": "_sK0LrLaOwvf",
        "colab_type": "text"
      },
      "source": [
        "Let's test our get_residual_sum_of_squares function by applying it to the test model where the data lie exactly on a line. Since they lie exactly on a line the residual sum of squares should be zero!"
      ]
    },
    {
      "cell_type": "code",
      "metadata": {
        "id": "d9kV-QliOwvg",
        "colab_type": "code",
        "colab": {}
      },
      "source": [
        "print(get_residual_sum_of_squares(test_feature, test_output, test_intercept, test_slope) # should be 0.0"
      ],
      "execution_count": 0,
      "outputs": []
    },
    {
      "cell_type": "markdown",
      "metadata": {
        "id": "hztYQK05Owvi",
        "colab_type": "text"
      },
      "source": [
        "Now use your function to calculate the RSS on training data from the squarefeet model calculated above.\n",
        "\n",
        "**Quiz Question: According to this function and the slope and intercept from the squarefeet model What is the RSS for the simple linear regression using squarefeet to predict prices on TRAINING data?**"
      ]
    },
    {
      "cell_type": "code",
      "metadata": {
        "id": "WxrkXVmZOwvj",
        "colab_type": "code",
        "colab": {}
      },
      "source": [
        "rss_prices_on_sqft = get_residual_sum_of_squares(X_train, y_train, sqft_intercept, sqft_slope)\n",
        "print 'The RSS of predicting Prices based on Square Feet is : ' + str(rss_prices_on_sqft)"
      ],
      "execution_count": 0,
      "outputs": []
    },
    {
      "cell_type": "markdown",
      "metadata": {
        "id": "pFK9A250Owvm",
        "colab_type": "text"
      },
      "source": [
        "# Predict the squarefeet given price"
      ]
    },
    {
      "cell_type": "markdown",
      "metadata": {
        "id": "e03oh5OqOwvn",
        "colab_type": "text"
      },
      "source": [
        "What if we want to predict the squarefoot given the price? Since we have an equation y = a + b\\*x we can solve the function for x. So that if we have the intercept (a) and the slope (b) and the price (y) we can solve for the estimated squarefeet (x).\n",
        "\n",
        "Complete the following function to compute the inverse regression estimate, i.e. predict the input_feature given the output."
      ]
    },
    {
      "cell_type": "code",
      "metadata": {
        "id": "mH0JjmAIOwvo",
        "colab_type": "code",
        "colab": {}
      },
      "source": [
        "def inverse_regression_predictions(output, intercept, slope):\n",
        "    # solve output = intercept + slope*input_feature for input_feature. Use this equation to compute the inverse predictions:\n",
        "\n",
        "    return estimated_feature"
      ],
      "execution_count": 0,
      "outputs": []
    },
    {
      "cell_type": "markdown",
      "metadata": {
        "id": "OCnH7RK1Owvq",
        "colab_type": "text"
      },
      "source": [
        "Now that we have a function to compute the squarefeet given the price from our simple regression model let's see how big we might expect a house that costs $800,000 to be.\n",
        "\n",
        "**Quiz Question: According to this function and the regression slope and intercept from (3) what is the estimated square-feet for a house costing $800,000?**"
      ]
    },
    {
      "cell_type": "code",
      "metadata": {
        "id": "cmEJl0hKOwvr",
        "colab_type": "code",
        "colab": {}
      },
      "source": [
        "my_house_price = 800000\n",
        "estimated_squarefeet = inverse_regression_predictions(my_house_price, sqft_intercept, sqft_slope)\n",
        "print \"The estimated squarefeet for a house worth $%.2f is %d\" % (my_house_price, estimated_squarefeet)"
      ],
      "execution_count": 0,
      "outputs": []
    },
    {
      "cell_type": "markdown",
      "metadata": {
        "id": "WmfvxNxpOwvu",
        "colab_type": "text"
      },
      "source": [
        "# New Model: estimate prices from bedrooms"
      ]
    },
    {
      "cell_type": "markdown",
      "metadata": {
        "id": "SUEymmahOwvv",
        "colab_type": "text"
      },
      "source": [
        "We have made one model for predicting house prices using squarefeet, but there are many other features in the sales SFrame. \n",
        "Use your simple linear regression function to estimate the regression parameters from predicting Prices based on number of bedrooms. Use the training data!"
      ]
    },
    {
      "cell_type": "code",
      "metadata": {
        "id": "PZtcvDJBOwvw",
        "colab_type": "code",
        "colab": {}
      },
      "source": [
        "# Estimate the slope and intercept for predicting 'price' based on 'bedrooms'\n",
        "\n"
      ],
      "execution_count": 0,
      "outputs": []
    },
    {
      "cell_type": "markdown",
      "metadata": {
        "id": "VTG7-FwMOwvy",
        "colab_type": "text"
      },
      "source": [
        "# Test your Linear Regression Algorithm"
      ]
    },
    {
      "cell_type": "markdown",
      "metadata": {
        "id": "NgN1oADoOwvz",
        "colab_type": "text"
      },
      "source": [
        "Now we have two models for predicting the price of a house. How do we know which one is better? Calculate the RSS on the TEST data (remember this data wasn't involved in learning the model). Compute the RSS from predicting prices using bedrooms and from predicting prices using squarefeet.\n",
        "\n",
        "**Quiz Question: Which model (square feet or bedrooms) has lowest RSS on TEST data? Think about why this might be the case.**"
      ]
    },
    {
      "cell_type": "code",
      "metadata": {
        "id": "4mCGgK_MOwv0",
        "colab_type": "code",
        "colab": {}
      },
      "source": [
        "# Compute RSS when using bedrooms on TEST data:\n"
      ],
      "execution_count": 0,
      "outputs": []
    },
    {
      "cell_type": "code",
      "metadata": {
        "id": "WMIXqNobOwv3",
        "colab_type": "code",
        "colab": {}
      },
      "source": [
        "# Compute RSS when using squarefeet on TEST data:\n"
      ],
      "execution_count": 0,
      "outputs": []
    },
    {
      "cell_type": "markdown",
      "metadata": {
        "id": "fe-RO_f8Owv7",
        "colab_type": "text"
      },
      "source": [
        "# Visual your linear model along with data "
      ]
    },
    {
      "cell_type": "markdown",
      "metadata": {
        "id": "YNrUGH5qOwv8",
        "colab_type": "text"
      },
      "source": [
        "Now it's the time to visual your model, using matplotlib "
      ]
    },
    {
      "cell_type": "code",
      "metadata": {
        "id": "V6-dXia9Owv8",
        "colab_type": "code",
        "colab": {}
      },
      "source": [
        "# Your code here "
      ],
      "execution_count": 0,
      "outputs": []
    },
    {
      "cell_type": "markdown",
      "metadata": {
        "id": "EeNu5w2QOwwA",
        "colab_type": "text"
      },
      "source": [
        "# Using Sklearn's Linear Regression "
      ]
    },
    {
      "cell_type": "markdown",
      "metadata": {
        "id": "fsQl5OysOwwB",
        "colab_type": "text"
      },
      "source": [
        "Sklearn is a great Machine Learning Library, so you could use it for implement and compare with your model "
      ]
    },
    {
      "cell_type": "code",
      "metadata": {
        "id": "GU0Sjg2mOwwB",
        "colab_type": "code",
        "colab": {}
      },
      "source": [
        "# Load model \n",
        "from sklearn import datasets, linear_model\n",
        "from sklearn.linear_model import LinearRegression"
      ],
      "execution_count": 0,
      "outputs": []
    },
    {
      "cell_type": "code",
      "metadata": {
        "id": "R0e9E4pXOwwD",
        "colab_type": "code",
        "colab": {}
      },
      "source": [
        "# Your code here "
      ],
      "execution_count": 0,
      "outputs": []
    },
    {
      "cell_type": "markdown",
      "metadata": {
        "id": "JqkHwzHcOwwK",
        "colab_type": "text"
      },
      "source": [
        "# Compare your model with Sklearn"
      ]
    },
    {
      "cell_type": "code",
      "metadata": {
        "id": "qa7iNMBkOwwK",
        "colab_type": "code",
        "colab": {}
      },
      "source": [
        "# Print the RSS on test data "
      ],
      "execution_count": 0,
      "outputs": []
    },
    {
      "cell_type": "code",
      "metadata": {
        "id": "dJCqZE2POwwO",
        "colab_type": "code",
        "colab": {}
      },
      "source": [
        "# Plot data and 2 models to compare "
      ],
      "execution_count": 0,
      "outputs": []
    },
    {
      "cell_type": "markdown",
      "metadata": {
        "id": "KqRxmv8BOwwR",
        "colab_type": "text"
      },
      "source": [
        "# Least Square model "
      ]
    },
    {
      "cell_type": "markdown",
      "metadata": {
        "id": "nm95b98cOwwS",
        "colab_type": "text"
      },
      "source": [
        "It's the time to use all variables to train, let's start with Least Square first. Remember, you must use all variables, checkout the formular of LS in LinearRegressionAndLogisticRegression.pdf and do it with numpy "
      ]
    },
    {
      "cell_type": "code",
      "metadata": {
        "id": "ntzFehVUOwwT",
        "colab_type": "code",
        "colab": {}
      },
      "source": [
        "# Your LS code here "
      ],
      "execution_count": 0,
      "outputs": []
    },
    {
      "cell_type": "code",
      "metadata": {
        "id": "L9B1CREhOwwV",
        "colab_type": "code",
        "colab": {}
      },
      "source": [
        "# Your RSS function here "
      ],
      "execution_count": 0,
      "outputs": []
    },
    {
      "cell_type": "code",
      "metadata": {
        "id": "AToj23ndOwwX",
        "colab_type": "code",
        "colab": {}
      },
      "source": [
        "# Print the RSS value "
      ],
      "execution_count": 0,
      "outputs": []
    },
    {
      "cell_type": "markdown",
      "metadata": {
        "id": "8aPvJhr9Owwa",
        "colab_type": "text"
      },
      "source": [
        "# Sklearn model "
      ]
    },
    {
      "cell_type": "markdown",
      "metadata": {
        "id": "IKDqTQmLOwwb",
        "colab_type": "text"
      },
      "source": [
        "Let's build a Sklearn model using Linear model above with all variables and compare with Least Square "
      ]
    },
    {
      "cell_type": "code",
      "metadata": {
        "id": "kwWpgsPSOwwb",
        "colab_type": "code",
        "colab": {}
      },
      "source": [
        "# Your Sklearn code here "
      ],
      "execution_count": 0,
      "outputs": []
    },
    {
      "cell_type": "code",
      "metadata": {
        "id": "s9N1u0oYOwwf",
        "colab_type": "code",
        "colab": {}
      },
      "source": [
        "# Your RSS show here "
      ],
      "execution_count": 0,
      "outputs": []
    },
    {
      "cell_type": "markdown",
      "metadata": {
        "id": "UxsfwhU2Owwk",
        "colab_type": "text"
      },
      "source": [
        "# Advanced: Can you build your own one? "
      ]
    },
    {
      "cell_type": "code",
      "metadata": {
        "id": "sjakbB1HOwwk",
        "colab_type": "code",
        "colab": {}
      },
      "source": [
        "# Define your model here "
      ],
      "execution_count": 0,
      "outputs": []
    },
    {
      "cell_type": "markdown",
      "metadata": {
        "id": "CZ6l9izsOwwo",
        "colab_type": "text"
      },
      "source": [
        "# Create some new features"
      ]
    },
    {
      "cell_type": "markdown",
      "metadata": {
        "id": "bQQciB0MOwwo",
        "colab_type": "text"
      },
      "source": [
        "Although we often think of multiple regression as including multiple different features (e.g. # of bedrooms, squarefeet, and # of bathrooms) but we can also consider transformations of existing features e.g. the log of the squarefeet or even \"interaction\" features such as the product of bedrooms and bathrooms.\n",
        "You will use the logarithm function to create a new feature. so first you should import it from the math library."
      ]
    },
    {
      "cell_type": "markdown",
      "metadata": {
        "id": "BX2cxHoxOwwp",
        "colab_type": "text"
      },
      "source": [
        "Next create the following 4 new features as column in both TEST and TRAIN data:\n",
        "* bedrooms_squared = bedrooms\\*bedrooms\n",
        "* bed_bath_rooms = bedrooms\\*bathrooms\n",
        "* log_sqft_living = log(sqft_living)\n",
        "* lat_plus_long = lat + long \n",
        "As an example here's the first one:"
      ]
    },
    {
      "cell_type": "code",
      "metadata": {
        "id": "hW21hn0BOwwp",
        "colab_type": "code",
        "colab": {}
      },
      "source": [
        "# create the remaining 3 features in both TEST and TRAIN data\n",
        "\n"
      ],
      "execution_count": 0,
      "outputs": []
    },
    {
      "cell_type": "markdown",
      "metadata": {
        "id": "kplJnDAuOwws",
        "colab_type": "text"
      },
      "source": [
        "* Squaring bedrooms will increase the separation between not many bedrooms (e.g. 1) and lots of bedrooms (e.g. 4) since 1^2 = 1 but 4^2 = 16. Consequently this feature will mostly affect houses with many bedrooms.\n",
        "* bedrooms times bathrooms gives what's called an \"interaction\" feature. It is large when *both* of them are large.\n",
        "* Taking the log of squarefeet has the effect of bringing large values closer together and spreading out small values.\n",
        "* Adding latitude to longitude is totally non-sensical but we will do it anyway (you'll see why)"
      ]
    },
    {
      "cell_type": "code",
      "metadata": {
        "id": "ac5wobBAOwwu",
        "colab_type": "code",
        "colab": {}
      },
      "source": [
        "# Build models with new features by your own above models"
      ],
      "execution_count": 0,
      "outputs": []
    },
    {
      "cell_type": "code",
      "metadata": {
        "id": "L28DnQ9uOwwy",
        "colab_type": "code",
        "colab": {}
      },
      "source": [
        ""
      ],
      "execution_count": 0,
      "outputs": []
    }
  ]
}